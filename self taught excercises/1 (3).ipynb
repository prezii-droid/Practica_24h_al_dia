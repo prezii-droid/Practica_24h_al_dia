{
  "nbformat": 4,
  "nbformat_minor": 0,
  "metadata": {
    "colab": {
      "name": "1.ipynb",
      "provenance": []
    },
    "kernelspec": {
      "name": "python3",
      "display_name": "Python 3"
    },
    "language_info": {
      "name": "python"
    }
  },
  "cells": [
    {
      "cell_type": "code",
      "execution_count": null,
      "metadata": {
        "id": "qGnCZapB0y-P"
      },
      "outputs": [],
      "source": [
        "a=[]\n",
        "for i in range(0,5):\n",
        "  a.append((2*i)+1)\n",
        "for i in range(0,len(a)):\n",
        "  print(a[i])"
      ]
    }
  ]
}