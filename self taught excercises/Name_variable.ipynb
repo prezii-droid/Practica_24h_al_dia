{
  "nbformat": 4,
  "nbformat_minor": 0,
  "metadata": {
    "colab": {
      "name": "Name_variable.ipynb",
      "provenance": []
    },
    "kernelspec": {
      "name": "python3",
      "display_name": "Python 3"
    },
    "language_info": {
      "name": "python"
    }
  },
  "cells": [
    {
      "cell_type": "code",
      "execution_count": null,
      "metadata": {
        "id": "wMoiEWD_1J-x"
      },
      "outputs": [],
      "source": [
        "\"\"\"Para nombrar variables es necesario recordar que no debe tener numeros al inicio ni\n",
        "simbolos raros\"\"\"\n",
        "\n",
        "a = 0.\n",
        "print(type(a))"
      ]
    }
  ]
}