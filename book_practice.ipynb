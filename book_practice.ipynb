{
  "nbformat": 4,
  "nbformat_minor": 0,
  "metadata": {
    "colab": {
      "name": "book_practice.ipynb",
      "provenance": [],
      "authorship_tag": "ABX9TyMiA1HO6PEX1bfZBwapH9LA",
      "include_colab_link": true
    },
    "kernelspec": {
      "name": "python3",
      "display_name": "Python 3"
    },
    "language_info": {
      "name": "python"
    }
  },
  "cells": [
    {
      "cell_type": "markdown",
      "metadata": {
        "id": "view-in-github",
        "colab_type": "text"
      },
      "source": [
        "<a href=\"https://colab.research.google.com/github/prezii-droid/Practica_24h_al_dia/blob/Practice/book_practice.ipynb\" target=\"_parent\"><img src=\"https://colab.research.google.com/assets/colab-badge.svg\" alt=\"Open In Colab\"/></a>"
      ]
    },
    {
      "cell_type": "code",
      "execution_count": null,
      "metadata": {
        "id": "fPm2HGwBQqXD"
      },
      "outputs": [],
      "source": [
        "from cmath import * # or from numpy.lib.scimath import sqrt\n",
        "a = 2; b = 1; c = 2\n",
        "\n",
        "q = sqrt(b*b - 4*a*c)\n",
        "\n",
        "x1 = (-b + q)/2*a\n",
        "x2 = (-b - q)/2*a\n",
        "\n",
        "print(f\"x1: {x1}\", f\"x2: {x2}\")"
      ]
    }
  ]
}