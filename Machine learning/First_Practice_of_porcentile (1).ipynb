{
  "nbformat": 4,
  "nbformat_minor": 0,
  "metadata": {
    "colab": {
      "name": "First_Practice_of_porcentile.ipynb",
      "provenance": []
    },
    "kernelspec": {
      "name": "python3",
      "display_name": "Python 3"
    },
    "language_info": {
      "name": "python"
    }
  },
  "cells": [
    {
      "cell_type": "code",
      "execution_count": 10,
      "metadata": {
        "colab": {
          "base_uri": "https://localhost:8080/"
        },
        "id": "_VumzdoAy0M2",
        "outputId": "f5316e61-e75b-4da4-d9ee-2c274185e04c"
      },
      "outputs": [
        {
          "output_type": "stream",
          "name": "stdout",
          "text": [
            "lenght of list is : 11, 25% of list is 2.75\n",
            "75% of list is 8.25, 75th percentile is 3 \n",
            "mean is 1.8181818181818181\n"
          ]
        }
      ],
      "source": [
        "#without numpy\n",
        "import math as m\n",
        "l = [0, 1, 1, 1, 1, 1, 2, 2, 2, 3, 6]\n",
        "a = 0.\n",
        "for i in l:\n",
        "  a=a+i\n",
        "\n",
        "print(f\"lenght of list is : {len(l)}, 25% of list is {0.25*len(l)}\")\n",
        "print(f\"75% of list is {0.75*len(l)}, 75th percentile is {l[9]} \")\n",
        "print(f\"mean is {a/len(l)}\")"
      ]
    },
    {
      "cell_type": "code",
      "source": [
        "#with numpy\n",
        "import numpy as np\n",
        "l = [0, 1, 1, 1, 1, 1, 2, 2, 2, 3, 6]\n",
        "print(f\"25th percentile: {np.percentile(l,25)}\")\n",
        "print(f\"50th percentile: {np.percentile(l,50)}\")\n",
        "print(f\"75th percentile: {np.percentile(l,75)}\")"
      ],
      "metadata": {
        "colab": {
          "base_uri": "https://localhost:8080/"
        },
        "id": "k74bE5PC3yFi",
        "outputId": "c07a64b2-ef4e-4bc2-96f7-2458883816ea"
      },
      "execution_count": 12,
      "outputs": [
        {
          "output_type": "stream",
          "name": "stdout",
          "text": [
            "25th percentile: 1.0\n",
            "50th percentile: 1.0\n",
            "75th percentile: 2.0\n"
          ]
        }
      ]
    }
  ]
}