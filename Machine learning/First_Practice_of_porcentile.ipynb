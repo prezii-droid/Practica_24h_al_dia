{
  "nbformat": 4,
  "nbformat_minor": 0,
  "metadata": {
    "colab": {
      "name": "First_Practice_of_porcentile.ipynb",
      "provenance": []
    },
    "kernelspec": {
      "name": "python3",
      "display_name": "Python 3"
    },
    "language_info": {
      "name": "python"
    }
  },
  "cells": [
    {
      "cell_type": "code",
      "execution_count": 10,
      "metadata": {
        "colab": {
          "base_uri": "https://localhost:8080/"
        },
        "id": "_VumzdoAy0M2",
        "outputId": "f5316e61-e75b-4da4-d9ee-2c274185e04c"
      },
      "outputs": [
        {
          "output_type": "stream",
          "name": "stdout",
          "text": [
            "lenght of list is : 11, 25% of list is 2.75\n",
            "75% of list is 8.25, 75th percentile is 3 \n",
            "mean is 1.8181818181818181\n"
          ]
        }
      ],
      "source": [
        "import math as m\n",
        "l = [0, 1, 1, 1, 1, 1, 2, 2, 2, 3, 6]\n",
        "a = 0.\n",
        "for i in l:\n",
        "  a=a+i\n",
        "\n",
        "print(f\"lenght of list is : {len(l)}, 25% of list is {0.25*len(l)}\")\n",
        "print(f\"75% of list is {0.75*len(l)}, 75th percentile is {l[9]} \")\n",
        "print(f\"mean is {a/len(l)}\")"
      ]
    }
  ]
}