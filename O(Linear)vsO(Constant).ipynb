{
  "nbformat": 4,
  "nbformat_minor": 0,
  "metadata": {
    "colab": {
      "name": "O(Linear)vsO(Constant).ipynb",
      "provenance": [],
      "authorship_tag": "ABX9TyPcgc7oyXb6coG4zCPExoMC",
      "include_colab_link": true
    },
    "kernelspec": {
      "name": "python3",
      "display_name": "Python 3"
    },
    "language_info": {
      "name": "python"
    }
  },
  "cells": [
    {
      "cell_type": "markdown",
      "metadata": {
        "id": "view-in-github",
        "colab_type": "text"
      },
      "source": [
        "<a href=\"https://colab.research.google.com/github/prezii-droid/Practice_40h/blob/main/O(Linear)vsO(Constant).ipynb\" target=\"_parent\"><img src=\"https://colab.research.google.com/assets/colab-badge.svg\" alt=\"Open In Colab\"/></a>"
      ]
    },
    {
      "cell_type": "code",
      "execution_count": 1,
      "metadata": {
        "id": "ksQXB3EWxnkF"
      },
      "outputs": [],
      "source": [
        "import time"
      ]
    },
    {
      "cell_type": "code",
      "source": [
        "cantidad = 1E6"
      ],
      "metadata": {
        "id": "KCYMjFcexunl"
      },
      "execution_count": 2,
      "outputs": []
    },
    {
      "cell_type": "code",
      "source": [
        "def suma_lineal(n):\n",
        "  c= 0\n",
        "  for i in range(int(n+1)):\n",
        "    c+=i\n",
        "  return c \n"
      ],
      "metadata": {
        "id": "As_3z93dxpgb"
      },
      "execution_count": 3,
      "outputs": []
    },
    {
      "cell_type": "code",
      "source": [
        "def suma_gausiana(n):\n",
        "  return (n/2)*(n+1)\n"
      ],
      "metadata": {
        "id": "RwXi3rLhyqCO"
      },
      "execution_count": 4,
      "outputs": []
    },
    {
      "cell_type": "code",
      "source": [
        "for i in range(4):\n",
        "  t0= time.time()\n",
        "  \n",
        "  suma1= suma_lineal(cantidad)\n",
        "  \n",
        "  t1 = time.time()\n",
        "  \n",
        "  suma2=suma_gausiana(cantidad)\n",
        "  \n",
        "  t2= time.time()\n",
        "  \n",
        "  print(f\"{suma1} t = {t1-t0}\")\n",
        "  print(f\"{suma2} t = {t2-t1}\")\n",
        "  \n",
        "  cantidad*=10"
      ],
      "metadata": {
        "colab": {
          "base_uri": "https://localhost:8080/"
        },
        "id": "0s9WNXNI4L5K",
        "outputId": "49c2a34a-fa9a-492d-85b0-00fe1d94f620"
      },
      "execution_count": 5,
      "outputs": [
        {
          "output_type": "stream",
          "name": "stdout",
          "text": [
            "500000500000 t = 0.15408754348754883\n",
            "500000500000.0 t = 1.1205673217773438e-05\n",
            "50000005000000 t = 1.0089035034179688\n",
            "50000005000000.0 t = 1.049041748046875e-05\n",
            "5000000050000000 t = 7.524783372879028\n",
            "5000000050000000.0 t = 1.6927719116210938e-05\n",
            "500000000500000000 t = 63.754990100860596\n",
            "5.000000005e+17 t = 7.3909759521484375e-06\n"
          ]
        }
      ]
    }
  ]
}