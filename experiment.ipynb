{
  "nbformat": 4,
  "nbformat_minor": 0,
  "metadata": {
    "colab": {
      "name": "experiment.ipynb",
      "provenance": [],
      "authorship_tag": "ABX9TyOMzwkNFFKfYQmk277CD0tY",
      "include_colab_link": true
    },
    "kernelspec": {
      "name": "python3",
      "display_name": "Python 3"
    },
    "language_info": {
      "name": "python"
    }
  },
  "cells": [
    {
      "cell_type": "markdown",
      "metadata": {
        "id": "view-in-github",
        "colab_type": "text"
      },
      "source": [
        "<a href=\"https://colab.research.google.com/github/prezii-droid/Practica_24h_al_dia/blob/Practice/experiment.ipynb\" target=\"_parent\"><img src=\"https://colab.research.google.com/assets/colab-badge.svg\" alt=\"Open In Colab\"/></a>"
      ]
    },
    {
      "cell_type": "code",
      "execution_count": 2,
      "metadata": {
        "colab": {
          "base_uri": "https://localhost:8080/",
          "height": 311
        },
        "id": "MpFe6LN69itl",
        "outputId": "12fa1b33-e9cb-4bcf-f6d9-e369d47cfc14"
      },
      "outputs": [
        {
          "output_type": "stream",
          "name": "stdout",
          "text": [
            "coeffs 4to grado = [ 5.74593923e-03 -2.67413586e+01  4.54109413e+04 -3.29706529e+07\n",
            "  8.86553416e+09]\n"
          ]
        },
        {
          "output_type": "display_data",
          "data": {
            "image/png": "[encoded data removed]",
            "text/plain": [
              "<Figure size 432x288 with 1 Axes>"
            ]
          },
          "metadata": {
            "needs_background": "light"
          }
        }
      ],
      "source": [
        "import numpy as np\n",
        "import matplotlib.pyplot as plt\n",
        "import pandas as pd\n",
        "\n",
        "df =pd.read_csv(\"https://raw.githubusercontent.com/diegour1/LabMetodosComputacionales/main/DataFiles/world_pop.csv\")\n",
        "\n",
        "Column = df[(df[\"Entity\"]=='Our World In Data') & (df[\"Year\"] >= 700) & (df[\"Year\"] <= 1900)]\n",
        "\n",
        "x1 = np.array([700,800,900,1000,1100,1200,1300,1400,1500,1600,1700,1750,1800,1850,1900])\n",
        "y1 = np.array([2.258350e+08,2.404876e+08,2.687474e+08,2.950402e+08,3.526069e+08,3.930810e+08,3.924035e+08, 3.897748e+08,4.613677e+08, 5.539561e+08,6.031675e+08,8.115621e+08,9.898183e+08,1.262682e+09,1.650000e+09  ])\n",
        "\n",
        "x = x1\n",
        "y = y1\n",
        "\n",
        "sols = {}\n",
        "for grado in range(4):\n",
        "  z = np.polyfit(x, y, 4, full=True)\n",
        "  sols[grado] = z\n",
        "\n",
        "plt.plot(x, y, 'o')\n",
        "\n",
        "\n",
        "xp = np.linspace(700,1900, 100)\n",
        "for grado, sol in sols.items():\n",
        "  coefs, error, *_ = sol\n",
        "  p = np.poly1d(coefs)\n",
        "  plt.plot(xp, p(xp))\n",
        "\n",
        "print(f\"coeffs 4to grado = {coefs}\")"
      ]
    }
  ]
}