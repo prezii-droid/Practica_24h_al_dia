{
  "nbformat": 4,
  "nbformat_minor": 0,
  "metadata": {
    "colab": {
      "name": "1_exercise.ipynb",
      "provenance": [],
      "authorship_tag": "ABX9TyMAvFRQPpIBgKwhytUyjQSn",
      "include_colab_link": true
    },
    "kernelspec": {
      "name": "python3",
      "display_name": "Python 3"
    },
    "language_info": {
      "name": "python"
    }
  },
  "cells": [
    {
      "cell_type": "markdown",
      "metadata": {
        "id": "view-in-github",
        "colab_type": "text"
      },
      "source": [
        "<a href=\"https://colab.research.google.com/github/prezii-droid/Practica_24h_al_dia/blob/Practice/1_exercise.ipynb\" target=\"_parent\"><img src=\"https://colab.research.google.com/assets/colab-badge.svg\" alt=\"Open In Colab\"/></a>"
      ]
    },
    {
      "cell_type": "code",
      "execution_count": null,
      "metadata": {
        "colab": {
          "base_uri": "https://localhost:8080/"
        },
        "id": "3amJRZsW6Nps",
        "outputId": "db9d06c3-8967-46d5-bbeb-607f43c4a483"
      },
      "outputs": [
        {
          "output_type": "stream",
          "name": "stdout",
          "text": [
            "Insert the F degrees for convertion to C degrees: 1\n",
            "-17\n"
          ]
        }
      ],
      "source": [
        "# 1.\n",
        "F = input(\"Insert the F degrees for convertion to C degrees: \")\n",
        "\n",
        "def c_degrees(f0): \n",
        "  return (5/9)*(float(f0) - 32)\n",
        "\n",
        "def after(f2):\n",
        "  n2= []\n",
        "  n3 = []\n",
        "  b = False\n",
        "  for i in f2:\n",
        "    if i == \".\":\n",
        "      b = True\n",
        "    if b == True:\n",
        "      n2.append(i)\n",
        "  for i in n2:\n",
        "    if i != \".\":\n",
        "      n3.append(i)\n",
        "  return len(n3)\n",
        "\n",
        "for i in F:\n",
        "  if i ==\".\":\n",
        "    print(round(c_degrees(F),after(F)))\n",
        "  elif type(i[-1])== type(\"\"): \n",
        "    print(round(c_degrees(F)))   \n",
        "  \"\"\"\n",
        "  Es extraño explicar este ultimo paso de elif, pero lo que se quiere decir es\n",
        "  que independientemente de cualquier cosa, solo se quiere llegar a que\n",
        "  imprima una vez el resultado para el caso de F sea dado como int, \n",
        "  Nota: me tomo más de lo que pensaba\n",
        "  \"\"\"\n"
      ]
    }
  ]
}