{
  "nbformat": 4,
  "nbformat_minor": 0,
  "metadata": {
    "colab": {
      "name": "Alien->Neila,DATE_2_1_2022.ipynb",
      "provenance": [],
      "authorship_tag": "ABX9TyN7HwNva0C6/1UGnw6tGLMp",
      "include_colab_link": true
    },
    "kernelspec": {
      "name": "python3",
      "display_name": "Python 3"
    },
    "language_info": {
      "name": "python"
    }
  },
  "cells": [
    {
      "cell_type": "markdown",
      "metadata": {
        "id": "view-in-github",
        "colab_type": "text"
      },
      "source": [
        "<a href=\"https://colab.research.google.com/github/prezii-droid/Practica_24h_al_dia/blob/Practice/Alien_%3ENeila%2CDATE_2_1_2022.ipynb\" target=\"_parent\"><img src=\"https://colab.research.google.com/assets/colab-badge.svg\" alt=\"Open In Colab\"/></a>"
      ]
    },
    {
      "cell_type": "code",
      "execution_count": 2,
      "metadata": {
        "colab": {
          "base_uri": "https://localhost:8080/"
        },
        "id": "fasKLHmSc5HK",
        "outputId": "8a52eaaf-579f-44c9-c245-1f580e40709c"
      },
      "outputs": [
        {
          "output_type": "stream",
          "name": "stdout",
          "text": [
            "hola\n",
            "aloh\n"
          ]
        }
      ],
      "source": [
        "x=input()\n",
        "\n",
        "save=[]\n",
        "final = []\n",
        "trad = \"\"\n",
        "sz = len(x)\n",
        "\n",
        "for i in x:\n",
        "  save.append(i)\n",
        "\n",
        "for j in range(0, sz):\n",
        "  final.append(save[sz-1-j])\n",
        "\n",
        "for i in final:\n",
        "  trad+=i\n",
        "\n",
        "print(trad)"
      ]
    }
  ]
}