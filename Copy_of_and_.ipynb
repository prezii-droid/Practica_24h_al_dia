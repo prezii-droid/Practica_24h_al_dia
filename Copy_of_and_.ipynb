{
  "nbformat": 4,
  "nbformat_minor": 0,
  "metadata": {
    "colab": {
      "name": "Copy of // and %.ipynb",
      "provenance": [],
      "authorship_tag": "ABX9TyMDpQC0GBJvpb77PKBvNjVB",
      "include_colab_link": true
    },
    "kernelspec": {
      "name": "python3",
      "display_name": "Python 3"
    },
    "language_info": {
      "name": "python"
    }
  },
  "cells": [
    {
      "cell_type": "markdown",
      "metadata": {
        "id": "view-in-github",
        "colab_type": "text"
      },
      "source": [
        "<a href=\"https://colab.research.google.com/github/prezii-droid/Practica_24h_al_dia/blob/Double_Division_and_modulus/Copy_of_and_.ipynb\" target=\"_parent\"><img src=\"https://colab.research.google.com/assets/colab-badge.svg\" alt=\"Open In Colab\"/></a>"
      ]
    },
    {
      "cell_type": "markdown",
      "metadata": {
        "id": "avL81JicV2Ik"
      },
      "source": [
        "$a // b$"
      ]
    },
    {
      "cell_type": "code",
      "metadata": {
        "colab": {
          "base_uri": "https://localhost:8080/"
        },
        "id": "qEgjNvESV2gK",
        "outputId": "ebab5b55-e171-46b2-ae9f-7f4435312b5c"
      },
      "source": [
        "#########################\n",
        "# a y b son reales no negativos\n",
        "#########################\n",
        "\n",
        "# If a > b, b != 0\n",
        "print(1//1)\n",
        "#a//b > 1 si y solo si a != b\n",
        "\n",
        "#If a < b, b!=0\n",
        "print(0.1//1) \n",
        "#a//b = 0"
      ],
      "execution_count": null,
      "outputs": [
        {
          "output_type": "stream",
          "text": [
            "1\n",
            "0.0\n"
          ],
          "name": "stdout"
        }
      ]
    },
    {
      "cell_type": "code",
      "metadata": {
        "id": "AziqqQbFXL2L"
      },
      "source": [
        "#########################\n",
        "# a y b son reales no positivos\n",
        "#########################"
      ],
      "execution_count": null,
      "outputs": []
    },
    {
      "cell_type": "markdown",
      "metadata": {
        "id": "wOvc-VJbV4CC"
      },
      "source": [
        "%"
      ]
    },
    {
      "cell_type": "code",
      "metadata": {
        "colab": {
          "base_uri": "https://localhost:8080/"
        },
        "id": "PBG5vsJrTlxM",
        "outputId": "655a9f17-ca8c-4126-a906-01f5eb1fd186"
      },
      "source": [
        "print(15%4)"
      ],
      "execution_count": null,
      "outputs": [
        {
          "output_type": "stream",
          "text": [
            "3\n"
          ],
          "name": "stdout"
        }
      ]
    }
  ]
}