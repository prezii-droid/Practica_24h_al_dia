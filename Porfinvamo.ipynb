{
  "nbformat": 4,
  "nbformat_minor": 0,
  "metadata": {
    "colab": {
      "name": "Porfinvamo.ipynb",
      "provenance": [],
      "authorship_tag": "ABX9TyMfTFFnl2ZCAlIcibzjFtTT",
      "include_colab_link": true
    },
    "kernelspec": {
      "name": "python3",
      "display_name": "Python 3"
    },
    "language_info": {
      "name": "python"
    }
  },
  "cells": [
    {
      "cell_type": "markdown",
      "metadata": {
        "id": "view-in-github",
        "colab_type": "text"
      },
      "source": [
        "<a href=\"https://colab.research.google.com/github/prezii-droid/Practice_40h/blob/main/Porfinvamo.ipynb\" target=\"_parent\"><img src=\"https://colab.research.google.com/assets/colab-badge.svg\" alt=\"Open In Colab\"/></a>"
      ]
    },
    {
      "cell_type": "code",
      "execution_count": null,
      "metadata": {
        "id": "_djr1RRue8iJ"
      },
      "outputs": [],
      "source": [
        "data = 7658555432821229000\n",
        "data = str(data)\n",
        "arr = [int(i) for i in data if i!='0']\n",
        "arr2=[int(i) for i in data if i!='0']\n",
        "arr = sorted(arr)\n",
        "arr2 = sorted(arr2)\n"
      ]
    },
    {
      "cell_type": "code",
      "source": [
        "print(arr)"
      ],
      "metadata": {
        "colab": {
          "base_uri": "https://localhost:8080/"
        },
        "id": "z3qsNy_Qfl63",
        "outputId": "adcb9d5f-6713-4291-f268-2db3edf3caea"
      },
      "execution_count": null,
      "outputs": [
        {
          "output_type": "stream",
          "name": "stdout",
          "text": [
            "[1, 2, 2, 2, 2, 3, 4, 5, 5, 5, 5, 6, 7, 8, 8, 9]\n"
          ]
        }
      ]
    },
    {
      "cell_type": "markdown",
      "source": [
        "\n",
        "\n",
        "```\n",
        "#metodo largo\n",
        "def order(ls):\n",
        "  ct=[]\n",
        "  for i, element in enumerate(ls):\n",
        "    if ls.count(element) == 1:\n",
        "      ct.append(element)\n",
        "    elif ls.count(element) >1:\n",
        "      for j in range(ls.count(element)-1):\n",
        "        ls.pop(i)\n",
        "      ct.append(element)\n",
        "  return ct\n",
        "```\n",
        "\n"
      ],
      "metadata": {
        "id": "c64fb1BjgMWv"
      }
    },
    {
      "cell_type": "code",
      "source": [
        "def other(ls):\n",
        "  c = -1\n",
        "  ct = []\n",
        "  for i in ls:\n",
        "    if i != c:\n",
        "      ct.append(i)\n",
        "      c=i\n",
        "  return ct"
      ],
      "metadata": {
        "id": "CCKCX2JtejGG"
      },
      "execution_count": null,
      "outputs": []
    },
    {
      "cell_type": "code",
      "source": [
        "def counting(ls1,ls2):\n",
        "  ct = []\n",
        "  for i in other(ls1):\n",
        "    ct.append(ls2.count(i))\n",
        "  return ct"
      ],
      "metadata": {
        "id": "jcNaDdb5R8dC"
      },
      "execution_count": null,
      "outputs": []
    },
    {
      "cell_type": "code",
      "source": [
        "#print(order(arr),counting(arr,arr2))\n",
        "my_dict = {other(arr)[i]:counting(arr,arr2)[i] for i in range(len(other(arr)))}\n",
        "print(my_dict)"
      ],
      "metadata": {
        "colab": {
          "base_uri": "https://localhost:8080/"
        },
        "id": "QilHBuFRTwc1",
        "outputId": "418a41ae-e5e1-4f5c-ac0b-39628d6e4b77"
      },
      "execution_count": null,
      "outputs": [
        {
          "output_type": "stream",
          "name": "stdout",
          "text": [
            "{1: 1, 2: 4, 3: 1, 4: 1, 5: 4, 6: 1, 7: 1, 8: 2, 9: 1}\n"
          ]
        }
      ]
    },
    {
      "cell_type": "code",
      "source": [
        "#print(order(arr),counting(arr,arr2),other(arr))\n",
        "#if order(arr)==other(arr):\n",
        "#  print(True)"
      ],
      "metadata": {
        "id": "8pyOi_4bfC7b"
      },
      "execution_count": null,
      "outputs": []
    },
    {
      "cell_type": "code",
      "source": [
        "for i in range(len(other(arr))):\n",
        "  print(f\"El numero {other(arr)[i]} se repite {counting(arr,arr2)[i]} vez/veces\")"
      ],
      "metadata": {
        "colab": {
          "base_uri": "https://localhost:8080/"
        },
        "id": "5G_yAuvgeGrr",
        "outputId": "696b130a-fae7-4038-9bf7-6a33333ab832"
      },
      "execution_count": null,
      "outputs": [
        {
          "output_type": "stream",
          "name": "stdout",
          "text": [
            "El numero 1 se repite 1 vez/veces\n",
            "El numero 2 se repite 4 vez/veces\n",
            "El numero 3 se repite 1 vez/veces\n",
            "El numero 4 se repite 1 vez/veces\n",
            "El numero 5 se repite 4 vez/veces\n",
            "El numero 6 se repite 1 vez/veces\n",
            "El numero 7 se repite 1 vez/veces\n",
            "El numero 8 se repite 2 vez/veces\n",
            "El numero 9 se repite 1 vez/veces\n"
          ]
        }
      ]
    }
  ]
}