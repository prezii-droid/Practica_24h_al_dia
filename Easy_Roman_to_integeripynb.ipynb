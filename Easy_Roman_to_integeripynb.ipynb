{
  "nbformat": 4,
  "nbformat_minor": 0,
  "metadata": {
    "colab": {
      "name": "Easy_Roman_to_integeripynb",
      "provenance": [],
      "authorship_tag": "ABX9TyMDvd81t78Zj8p41GnmNq0t",
      "include_colab_link": true
    },
    "kernelspec": {
      "name": "python3",
      "display_name": "Python 3"
    },
    "language_info": {
      "name": "python"
    }
  },
  "cells": [
    {
      "cell_type": "markdown",
      "metadata": {
        "id": "view-in-github",
        "colab_type": "text"
      },
      "source": [
        "<a href=\"https://colab.research.google.com/github/prezii-droid/Practice_40h/blob/main/Easy_Roman_to_integeripynb.ipynb\" target=\"_parent\"><img src=\"https://colab.research.google.com/assets/colab-badge.svg\" alt=\"Open In Colab\"/></a>"
      ]
    },
    {
      "cell_type": "code",
      "execution_count": null,
      "metadata": {
        "id": "X88oPSYxC8au"
      },
      "outputs": [],
      "source": [
        "cache = {\"I\":1,\"V\":5,\"X\":10,\"L\":50,\"C\":100,\"D\":500,\"M\":1000}\n",
        "class Solution:\n",
        "\n",
        "  def romanToInt(self, s: str) -> int:\n",
        "    #Roman numbers like an array of int\n",
        "    ls = [cache[i] for i in s]\n",
        "    #Constants\n",
        "    c = 0\n",
        "    keep = 0\n",
        "    n = len(ls)\n",
        "    #Algorithm\n",
        "    for i in range(n):\n",
        "      if i ==0 or keep >= ls[i]:\n",
        "        c += ls[i]\n",
        "        keep = ls[i]\n",
        "      elif i != 0 and keep < ls[i]:\n",
        "        c += ls[i]- keep*2 \n",
        "        keep = ls[i]\n",
        "    return c\n",
        "\n"
      ]
    }
  ]
}