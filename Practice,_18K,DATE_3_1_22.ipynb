{
  "nbformat": 4,
  "nbformat_minor": 0,
  "metadata": {
    "colab": {
      "name": "Practice, 18K, 3/1/22.ipynb",
      "provenance": [],
      "authorship_tag": "ABX9TyO6aXKU3RddNXXgi9OH3j+U",
      "include_colab_link": true
    },
    "kernelspec": {
      "name": "python3",
      "display_name": "Python 3"
    },
    "language_info": {
      "name": "python"
    }
  },
  "cells": [
    {
      "cell_type": "markdown",
      "metadata": {
        "id": "view-in-github",
        "colab_type": "text"
      },
      "source": [
        "<a href=\"https://colab.research.google.com/github/prezii-droid/Practica_24h_al_dia/blob/Practice/Practice%2C_18K%2CDATE_3_1_22.ipynb\" target=\"_parent\"><img src=\"https://colab.research.google.com/assets/colab-badge.svg\" alt=\"Open In Colab\"/></a>"
      ]
    },
    {
      "cell_type": "code",
      "execution_count": null,
      "metadata": {
        "colab": {
          "base_uri": "https://localhost:8080/"
        },
        "id": "uxc70Bplaup3",
        "outputId": "df031ee1-1956-4e74-a693-b848c6567af0"
      },
      "outputs": [
        {
          "output_type": "stream",
          "name": "stdout",
          "text": [
            "77.1\n",
            "18K\n"
          ]
        }
      ],
      "source": [
        "purity = float(input())\n",
        "#tu código va aquí\n",
        "\n",
        "if purity > 75 and purity < 83.3:\n",
        "  print(\"18K\")\n",
        "if purity > 83.3 and purity < 91.7:\n",
        "  print(\"20K\")\n",
        "if purity > 91.7 and purity < 99.9:\n",
        "  print(\"22K\")"
      ]
    }
  ]
}