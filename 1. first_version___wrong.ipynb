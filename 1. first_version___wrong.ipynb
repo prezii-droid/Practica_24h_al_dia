{
  "nbformat": 4,
  "nbformat_minor": 0,
  "metadata": {
    "colab": {
      "name": "first_version_:_wrong.ipynb",
      "provenance": []
    },
    "kernelspec": {
      "name": "python3",
      "display_name": "Python 3"
    },
    "language_info": {
      "name": "python"
    }
  },
  "cells": [
    {
      "cell_type": "code",
      "execution_count": 24,
      "metadata": {
        "colab": {
          "base_uri": "https://localhost:8080/"
        },
        "id": "bh3csBV7UgWn",
        "outputId": "5299319d-3281-46e3-ac5c-21e797a9fcec"
      },
      "outputs": [
        {
          "output_type": "stream",
          "name": "stdout",
          "text": [
            "1\n",
            "3\n",
            "5\n",
            "7\n",
            "9\n"
          ]
        }
      ],
      "source": [
        "a=[]\n",
        "for i in range(0,5):\n",
        "  a.append((2*i)+1)\n",
        "for i in range(0,len(a)):\n",
        "  print(a[i])\n"
      ]
    }
  ]
}