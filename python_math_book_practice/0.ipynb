{
  "nbformat": 4,
  "nbformat_minor": 0,
  "metadata": {
    "colab": {
      "name": "0.ipynb",
      "provenance": []
    },
    "kernelspec": {
      "name": "python3",
      "display_name": "Python 3"
    },
    "language_info": {
      "name": "python"
    }
  },
  "cells": [
    {
      "cell_type": "code",
      "execution_count": null,
      "metadata": {
        "id": "l-IvbpWJ0DTL"
      },
      "outputs": [],
      "source": [
        "from cmath import * # or from numpy.lib.scimath import sqrt\n",
        "a = 2; b = 1; c = 2\n",
        "\n",
        "q = sqrt(b*b - 4*a*c)\n",
        "\n",
        "x1 = (-b + q)/2*a\n",
        "x2 = (-b - q)/2*a\n",
        "\n",
        "print(f\"x1: {x1}\", f\"x2: {x2}\")"
      ]
    }
  ]
}