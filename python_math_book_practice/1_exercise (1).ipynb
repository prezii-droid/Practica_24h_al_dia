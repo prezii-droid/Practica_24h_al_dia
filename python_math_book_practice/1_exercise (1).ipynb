{
  "nbformat": 4,
  "nbformat_minor": 0,
  "metadata": {
    "colab": {
      "name": "1_exercise.ipynb",
      "provenance": []
    },
    "kernelspec": {
      "name": "python3",
      "display_name": "Python 3"
    },
    "language_info": {
      "name": "python"
    }
  },
  "cells": [
    {
      "cell_type": "code",
      "execution_count": 10,
      "metadata": {
        "colab": {
          "base_uri": "https://localhost:8080/"
        },
        "id": "3amJRZsW6Nps",
        "outputId": "2ed3a553-a56f-48da-b376-dc92740a45df"
      },
      "outputs": [
        {
          "output_type": "stream",
          "name": "stdout",
          "text": [
            "Insert the F degrees for convertion to C degrees: 69\n",
            "21\n"
          ]
        }
      ],
      "source": [
        "# 1.\n",
        "\n",
        "F = input(\"Insert the F degrees for convertion to C degrees: \")\n",
        "\n",
        "\n",
        "def c_degrees(f0): \n",
        "  return (5/9)*(float(f0) - 32)\n",
        "\n",
        "def after(f2):\n",
        "  n2= []\n",
        "  n3 = []\n",
        "  b = False\n",
        "  for i in f2:\n",
        "    if i == \".\":\n",
        "      b = True\n",
        "    if b == True:\n",
        "      n2.append(i)\n",
        "  for i in n2:\n",
        "    if i != \".\":\n",
        "      n3.append(i)\n",
        "  return len(n3)\n",
        "\n",
        "def identify(f4):\n",
        "  c = 0\n",
        "  for i in f4:\n",
        "    if i ==\".\":\n",
        "      c+=1\n",
        "  return c  \n",
        "\n",
        "if identify(F)==1:\n",
        "  print(round(c_degrees(F),after(F)))\n",
        "else:\n",
        "  print(round(c_degrees(F)))    \n",
        "    \n",
        "  #elif type(i[-1])== type(\"\"): \n",
        "  #print(round(c_degrees(F)))   \n",
        "\n",
        "#  Es extraño explicar este ultimo paso de elif, pero lo que se quiere decir es\n",
        "#  que independientemente de cualquier cosa, solo se quiere llegar a que\n",
        "#  imprima una vez el resultado para el caso de F sea dado como int, \n",
        "#  Nota: me tomo más de lo que pensaba\n"
      ]
    }
  ]
}