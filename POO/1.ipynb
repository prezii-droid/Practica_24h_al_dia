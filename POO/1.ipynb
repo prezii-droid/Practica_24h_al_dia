{
  "nbformat": 4,
  "nbformat_minor": 0,
  "metadata": {
    "colab": {
      "name": "1.ipynb",
      "provenance": []
    },
    "kernelspec": {
      "name": "python3",
      "display_name": "Python 3"
    },
    "language_info": {
      "name": "python"
    }
  },
  "cells": [
    {
      "cell_type": "code",
      "execution_count": 1,
      "metadata": {
        "id": "uOFyqwV73xCa"
      },
      "outputs": [],
      "source": [
        "class Coche():\n",
        "  # 4 Atributos\n",
        "  longitudChasis = 250\n",
        "  anchoChasis = 120\n",
        "  ruedas = 4\n",
        "  enmarcha = False\n",
        "\n",
        "  # 2 Comportamientos\n",
        "  \"\"\"\n",
        "  ¡OJO! la diferencia entre una funcion (común hasta ahora)\n",
        "  y método (comportamientos de las funciones) es que tiene \n",
        "  que tener (método) como primer parametro obligatorio la \n",
        "  palabra self \n",
        "  \"\"\" \n",
        "  def arrancar(self):\n",
        "    self.enmarcha=True\n",
        "  \n",
        "  def estado(self):\n",
        "    if self.enmarcha:\n",
        "      return \"El coche esta en marcha\"\n",
        "    else:\n",
        "      return \"El coche está parado\""
      ]
    },
    {
      "cell_type": "markdown",
      "source": [
        "Instanciar "
      ],
      "metadata": {
        "id": "ld4dqATQ5Cn-"
      }
    },
    {
      "cell_type": "code",
      "source": [
        "miCoche = Coche()\n",
        "\n",
        "print(f\"El largo del coche es: {miCoche.longitudChasis}\")\n",
        "print(f\"El coche tiene {miCoche.ruedas} ruedas\")\n",
        "#OJO \n",
        "miCoche.arrancar()\n",
        "\"\"\" Si le quitaramos la linea \"miCoche.arrancar()\" entonces apareceria\n",
        "la frase \"El coche está parado\" ya que lo inicializamos primeramento como\n",
        "que esta quieto\n",
        "\"\"\"\n",
        "print(miCoche.estado())\n"
      ],
      "metadata": {
        "colab": {
          "base_uri": "https://localhost:8080/"
        },
        "id": "wzbRBF5a5E5l",
        "outputId": "457c4703-9514-4bd2-c3f6-7a65280f3868"
      },
      "execution_count": 2,
      "outputs": [
        {
          "output_type": "stream",
          "name": "stdout",
          "text": [
            "El largo del coche es: 250\n",
            "El coche tiene 4 ruedas\n",
            "El coche esta en marcha\n"
          ]
        }
      ]
    }
  ]
}