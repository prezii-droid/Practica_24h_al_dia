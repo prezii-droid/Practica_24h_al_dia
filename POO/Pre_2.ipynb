{
  "nbformat": 4,
  "nbformat_minor": 0,
  "metadata": {
    "colab": {
      "name": "Pre_2.ipynb",
      "provenance": []
    },
    "kernelspec": {
      "name": "python3",
      "display_name": "Python 3"
    },
    "language_info": {
      "name": "python"
    }
  },
  "cells": [
    {
      "cell_type": "code",
      "execution_count": 1,
      "metadata": {
        "id": "P3ycmSQeN4Vp"
      },
      "outputs": [],
      "source": [
        "class Coche():\n",
        "  # Método constructor\n",
        "  def __init__ (self):\n",
        "    self.__longitudChasis = 250\n",
        "    self.__anchoChasis = 120\n",
        "    self.__ruedas = 4\n",
        "    self.__enmarcha = False\n",
        "\n",
        "  # 2 Comportamientos\n",
        "#  \"\"\"\n",
        "#  ¡OJO! la diferencia entre una funcion (común hasta ahora)\n",
        "# y método (comportamientos de las funciones) es que tiene \n",
        "# que tener (método) como primer parametro obligatorio la \n",
        "#  palabra self \n",
        "#  \"\"\" \n",
        "  def arrancar(self, arrancamos):\n",
        "    self.__enmarcha = arrancamos\n",
        "    if self.__enmarcha:\n",
        "      return \"El coche esta en marcha\"\n",
        "    else:\n",
        "      return \"El coche está parado\"\n",
        "    \n",
        "    \n",
        "  def estado(self):\n",
        "    return print(f\"El coche tiene {self.__ruedas}, ruedas, un ancho de {self.__anchoChasis} y un largo de { self.__longitudChasis}\")\n",
        "\n"
      ]
    },
    {
      "cell_type": "code",
      "source": [
        "miCoche = Coche()\n",
        "print(miCoche.arrancar(True))\n",
        "miCoche.estado()\n",
        "print(\"------------------ A continuación creamos el segundo objeto -------------\")\n",
        "\n",
        "miCoche2 = Coche()\n",
        "print(miCoche2.arrancar(False))\n",
        "miCoche2.estado()"
      ],
      "metadata": {
        "colab": {
          "base_uri": "https://localhost:8080/"
        },
        "id": "sMdMghSPQrwf",
        "outputId": "3719e897-4861-4ab4-9cd7-21bf426eaa70"
      },
      "execution_count": 2,
      "outputs": [
        {
          "output_type": "stream",
          "name": "stdout",
          "text": [
            "El coche esta en marcha\n",
            "El coche tiene 4, ruedas, un ancho de 120 y un largo de 250\n",
            "------------------ A continuación creamos el segundo objeto -------------\n",
            "El coche está parado\n",
            "El coche tiene 4, ruedas, un ancho de 120 y un largo de 250\n"
          ]
        }
      ]
    }
  ]
}