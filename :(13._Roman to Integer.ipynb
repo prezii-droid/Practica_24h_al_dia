{
  "nbformat": 4,
  "nbformat_minor": 0,
  "metadata": {
    "colab": {
      "name": "Untitled133.ipynb",
      "provenance": [],
      "authorship_tag": "ABX9TyNNfJMdb6KKmTsOf6jvu91l",
      "include_colab_link": true
    },
    "kernelspec": {
      "name": "python3",
      "display_name": "Python 3"
    },
    "language_info": {
      "name": "python"
    }
  },
  "cells": [
    {
      "cell_type": "markdown",
      "metadata": {
        "id": "view-in-github",
        "colab_type": "text"
      },
      "source": [
        "<a href=\"https://colab.research.google.com/github/prezii-droid/Practice_40h/blob/main/%3A(13._Roman%20to%20Integer.ipynb\" target=\"_parent\"><img src=\"https://colab.research.google.com/assets/colab-badge.svg\" alt=\"Open In Colab\"/></a>"
      ]
    },
    {
      "cell_type": "code",
      "execution_count": 5,
      "metadata": {
        "colab": {
          "base_uri": "https://localhost:8080/"
        },
        "id": "bvGk6WWygAoU",
        "outputId": "db907ef1-b973-4f28-87ef-fd3c9ec71008"
      },
      "outputs": [
        {
          "name": "stdout",
          "output_type": "stream",
          "text": [
            "\"IV\"\n"
          ]
        },
        {
          "output_type": "execute_result",
          "data": {
            "text/plain": [
              "4"
            ]
          },
          "metadata": {},
          "execution_count": 5
        }
      ],
      "source": [
        "roman_number =str(input())\n",
        "cache = {\"I\":1,\"V\":5,\"X\":10,\"L\":50,\"C\":100,\"D\":500,\"M\":1000}\n",
        "class Solution:\n",
        "  def lt(self, arr):\n",
        "    pass\n",
        "\n",
        "  def romanToInt(self, s: str) -> int:\n",
        "    #Roman numbers like an array of int\n",
        "    l1 = [roman_number[i] for i in range(1,len(roman_number)-1)]\n",
        "    ls = [cache[i] for i in l1]\n",
        "    #Constants\n",
        "    c = 0\n",
        "    keep = 0\n",
        "    n = len(ls)\n",
        "    #Algorithm\n",
        "    for i in range(n):\n",
        "      if i ==0 or keep >= ls[i]:\n",
        "        c += ls[i]\n",
        "        keep = ls[i]\n",
        "      elif i != 0 and keep < ls[i]:\n",
        "        c += ls[i]- keep*2 \n",
        "        keep = ls[i]\n",
        "    return c\n",
        "\n",
        "Solution().romanToInt(roman_number)"
      ]
    },
    {
      "cell_type": "code",
      "source": [
        "roman_number =str(input())\n",
        "cache = {\"I\":1,\"V\":5,\"X\":10,\"L\":50,\"C\":100,\"D\":500,\"M\":1000}\n",
        "class Solution:\n",
        "  def romanToInt(self, s: str) -> int:\n",
        "    #Roman numbers like an array of int\n",
        "    l1 = [roman_number[i] for i in range(1,len(roman_number)-1)]\n",
        "    ls = [cache[i] for i in l1]\n",
        "    #Constants\n",
        "    c = 0\n",
        "    keep = 0\n",
        "    n = len(ls)\n",
        "    #Algorithm\n",
        "    for i in range(n):\n",
        "      if i ==0 or keep >= ls[i]:\n",
        "        c += ls[i]\n",
        "        keep = ls[i]\n",
        "      elif i != 0 and keep < ls[i]:\n",
        "        c += ls[i]- keep*2 \n",
        "        keep = ls[i]\n",
        "    return c\n",
        "\n",
        "Solution().romanToInt(roman_number)"
      ],
      "metadata": {
        "id": "0IFoz7_SqPPJ"
      },
      "execution_count": null,
      "outputs": []
    },
    {
      "cell_type": "code",
      "source": [
        "x, y, z = [int(x) for x in input(\"Enter three values: \").split()]"
      ],
      "metadata": {
        "id": "gvOgBTTKogFi"
      },
      "execution_count": null,
      "outputs": []
    },
    {
      "cell_type": "code",
      "source": [
        "a = [1,2,3]\n",
        "a.pop(0)\n",
        "print(a)"
      ],
      "metadata": {
        "colab": {
          "base_uri": "https://localhost:8080/"
        },
        "id": "OvDqG2edqXoX",
        "outputId": "b4c6afda-07a0-497a-e421-d1b575ad9c06"
      },
      "execution_count": 6,
      "outputs": [
        {
          "output_type": "stream",
          "name": "stdout",
          "text": [
            "[2, 3]\n"
          ]
        }
      ]
    }
  ]
}