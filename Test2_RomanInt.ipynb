{
  "nbformat": 4,
  "nbformat_minor": 0,
  "metadata": {
    "colab": {
      "name": "Test2_RomanInt.ipynb",
      "provenance": [],
      "authorship_tag": "ABX9TyOit3sfx19HqpZV2q2V1FOR",
      "include_colab_link": true
    },
    "kernelspec": {
      "name": "python3",
      "display_name": "Python 3"
    },
    "language_info": {
      "name": "python"
    }
  },
  "cells": [
    {
      "cell_type": "markdown",
      "metadata": {
        "id": "view-in-github",
        "colab_type": "text"
      },
      "source": [
        "<a href=\"https://colab.research.google.com/github/prezii-droid/Practice_40h/blob/main/Test2_RomanInt.ipynb\" target=\"_parent\"><img src=\"https://colab.research.google.com/assets/colab-badge.svg\" alt=\"Open In Colab\"/></a>"
      ]
    },
    {
      "cell_type": "code",
      "source": [
        ""
      ],
      "metadata": {
        "id": "udKUGRLGUhqb"
      },
      "execution_count": null,
      "outputs": []
    },
    {
      "cell_type": "code",
      "execution_count": null,
      "metadata": {
        "colab": {
          "base_uri": "https://localhost:8080/"
        },
        "id": "bvGk6WWygAoU",
        "outputId": "db907ef1-b973-4f28-87ef-fd3c9ec71008"
      },
      "outputs": [
        {
          "name": "stdout",
          "output_type": "stream",
          "text": [
            "\"IV\"\n"
          ]
        },
        {
          "output_type": "execute_result",
          "data": {
            "text/plain": [
              "4"
            ]
          },
          "metadata": {},
          "execution_count": 5
        }
      ],
      "source": [
        "roman_number =str(input())\n",
        "cache = {\"I\":1,\"V\":5,\"X\":10,\"L\":50,\"C\":100,\"D\":500,\"M\":1000}\n",
        "class Solution:\n",
        "\n",
        "\n",
        "  def romanToInt(self, s: str, arr:list) -> int:\n",
        "    \n",
        "    #Constants\n",
        "    c = 0\n",
        "    keep = 0\n",
        "    n = len(ls)\n",
        "    #Algorithm\n",
        "    for i in range(n):\n",
        "      if i ==0 or keep >= ls[i]:\n",
        "        c += ls[i]\n",
        "        keep = ls[i]\n",
        "      elif i != 0 and keep < ls[i]:\n",
        "        c += ls[i]- keep*2 \n",
        "        keep = ls[i]\n",
        "    return c\n",
        "\n",
        "Solution().romanToInt(roman_number)"
      ]
    },
    {
      "cell_type": "code",
      "source": [
        "roman_number =str(input())\n",
        "cache = {\"I\":1,\"V\":5,\"X\":10,\"L\":50,\"C\":100,\"D\":500,\"M\":1000}\n",
        "class Solution:\n",
        "  def romanToInt(self, s: str,arr:list) -> int:\n",
        "    #Roman numbers like an array of int\n",
        "\n",
        "    #Constants\n",
        "    c = 0\n",
        "    keep = 0\n",
        "    n = len(ls)\n",
        "    #Algorithm\n",
        "    for i in range(n):\n",
        "      if i ==0 or keep >= ls[i]:\n",
        "        c += ls[i]\n",
        "        keep = ls[i]\n",
        "      elif i != 0 and keep < ls[i]:\n",
        "        c += ls[i]- keep*2 \n",
        "        keep = ls[i]\n",
        "    return c\n",
        "\n",
        "Solution().romanToInt(roman_number)"
      ],
      "metadata": {
        "colab": {
          "base_uri": "https://localhost:8080/"
        },
        "id": "0IFoz7_SqPPJ",
        "outputId": "7e12ac93-28eb-4483-85cd-b962eae91035"
      },
      "execution_count": null,
      "outputs": [
        {
          "name": "stdout",
          "output_type": "stream",
          "text": [
            "\"IX\"\n"
          ]
        },
        {
          "output_type": "execute_result",
          "data": {
            "text/plain": [
              "9"
            ]
          },
          "metadata": {},
          "execution_count": 48
        }
      ]
    },
    {
      "cell_type": "markdown",
      "source": [
        "**Por fin! Lo tengo**"
      ],
      "metadata": {
        "id": "K17DMsJiiOBc"
      }
    },
    {
      "cell_type": "code",
      "source": [
        "x = [i for i in input().split()]\n",
        "print(x)"
      ],
      "metadata": {
        "colab": {
          "base_uri": "https://localhost:8080/"
        },
        "id": "vsSvouJ5k0QC",
        "outputId": "7a0b3649-d46c-47b5-d5a8-a9d109871dcd"
      },
      "execution_count": 149,
      "outputs": [
        {
          "output_type": "stream",
          "name": "stdout",
          "text": [
            "\"XI\" \"X\" \"IV\"\n",
            "['\"XI\"', '\"X\"', '\"IV\"']\n"
          ]
        }
      ]
    },
    {
      "cell_type": "code",
      "source": [
        "eso = []\n",
        "for i in x:\n",
        "  for j in i:\n",
        "    eso.append(j)"
      ],
      "metadata": {
        "id": "vssg-ICjcFgt"
      },
      "execution_count": 128,
      "outputs": []
    },
    {
      "cell_type": "code",
      "source": [
        "print(eso)"
      ],
      "metadata": {
        "colab": {
          "base_uri": "https://localhost:8080/"
        },
        "id": "OwkMl0RUd53r",
        "outputId": "72a052db-5236-4c90-c26e-1aa4fc12823d"
      },
      "execution_count": 129,
      "outputs": [
        {
          "output_type": "stream",
          "name": "stdout",
          "text": [
            "['\"', 'X', 'I', '\"', '\"', 'X', '\"', '\"', 'I', 'V', '\"']\n"
          ]
        }
      ]
    },
    {
      "cell_type": "code",
      "source": [
        "nuevo = []\n",
        "can = 0\n",
        "ya_nose= \"\"\n",
        "for i in eso:\n",
        "  if i == '\"':\n",
        "    can+=1\n",
        "    if can ==2:\n",
        "      nuevo.append(ya_nose)\n",
        "      ya_nose =\"\"\n",
        "      can=0\n",
        "  elif i!='\"':\n",
        "    ya_nose+=i\n",
        "    can = 0\n",
        "nuevo.append(ya_nose)"
      ],
      "metadata": {
        "colab": {
          "base_uri": "https://localhost:8080/"
        },
        "id": "MymsJi9tcqKi",
        "outputId": "c8254be7-1820-427e-b1b6-6fbfa7735ebd"
      },
      "execution_count": 146,
      "outputs": [
        {
          "output_type": "stream",
          "name": "stdout",
          "text": [
            "perro\n",
            "perro\n"
          ]
        }
      ]
    },
    {
      "cell_type": "code",
      "source": [
        "print(nuevo)"
      ],
      "metadata": {
        "colab": {
          "base_uri": "https://localhost:8080/"
        },
        "id": "xX_1JkqLdzDt",
        "outputId": "3d04d2fe-3aa9-4a00-88a8-36d8c440c6ad"
      },
      "execution_count": 147,
      "outputs": [
        {
          "output_type": "stream",
          "name": "stdout",
          "text": [
            "['XI', 'X', 'IV']\n"
          ]
        }
      ]
    },
    {
      "cell_type": "code",
      "source": [
        "roman = str(input())\n",
        "def data1(sr:list)->list:\n",
        "  x = [i for i in sr.split()]\n",
        "  new_arr1 = []\n",
        "  #Separation data per letter in one array\n",
        "  for i in x:\n",
        "    for j in i:\n",
        "      new_arr1.append(j)\n",
        "\n",
        "  return new_arr1"
      ],
      "metadata": {
        "colab": {
          "base_uri": "https://localhost:8080/"
        },
        "id": "sYNwO44CjRFu",
        "outputId": "9d17ef01-f1d4-4d41-cf57-ba097f350773"
      },
      "execution_count": 176,
      "outputs": [
        {
          "name": "stdout",
          "output_type": "stream",
          "text": [
            "\"XI\" \"X\" \"IV\"\n"
          ]
        }
      ]
    },
    {
      "cell_type": "code",
      "source": [
        "print(data1(roman))"
      ],
      "metadata": {
        "colab": {
          "base_uri": "https://localhost:8080/"
        },
        "id": "p1-D7uLQoWIV",
        "outputId": "76652062-c901-4efa-e2d5-1a60f2214133"
      },
      "execution_count": 183,
      "outputs": [
        {
          "output_type": "stream",
          "name": "stdout",
          "text": [
            "['\"', 'X', 'I', '\"', '\"', 'X', '\"', '\"', 'I', 'V', '\"']\n"
          ]
        }
      ]
    },
    {
      "cell_type": "code",
      "source": [
        "def data2(r:list)->list:\n",
        "  nuevo = []\n",
        "  c = 0\n",
        "  sy = \"\"\n",
        "  for i in data1(r):\n",
        "    if i == '\"':\n",
        "      c+=1\n",
        "      if c ==2:\n",
        "        nuevo.append(sy)\n",
        "        sy =\"\"\n",
        "        c=0\n",
        "    elif i!='\"':\n",
        "      sy+=i\n",
        "      c = 0\n",
        "  nuevo.append(sy)\n",
        "  return nuevo"
      ],
      "metadata": {
        "id": "CgOWmR5enLaW"
      },
      "execution_count": 184,
      "outputs": []
    },
    {
      "cell_type": "code",
      "source": [
        "print(data2(roman))"
      ],
      "metadata": {
        "colab": {
          "base_uri": "https://localhost:8080/"
        },
        "id": "WAI9mrPIlBtd",
        "outputId": "b5527273-0319-44f5-e3e6-155a6fe481f2"
      },
      "execution_count": 185,
      "outputs": [
        {
          "output_type": "stream",
          "name": "stdout",
          "text": [
            "['XI', 'X', 'IV']\n"
          ]
        }
      ]
    },
    {
      "cell_type": "code",
      "source": [
        "def transformation(r:list)->list:\n",
        "  new3= []\n",
        "  c = 0\n",
        "  other =[]\n",
        "  for i in range(len(data2(r))):\n",
        "    for j in data2(r)[i]:\n",
        "      if c == i:\n",
        "        other.append(cache[j])\n",
        "\n",
        "      elif c !=i:\n",
        "        new3.append(other)\n",
        "        other = []\n",
        "        other.append(cache[j])\n",
        "        c=i\n",
        "  new3.append(other)\n",
        "  return new3 "
      ],
      "metadata": {
        "id": "-GqrSGcOC4Kk"
      },
      "execution_count": 237,
      "outputs": []
    },
    {
      "cell_type": "code",
      "source": [
        "print(transformation(roman))"
      ],
      "metadata": {
        "colab": {
          "base_uri": "https://localhost:8080/"
        },
        "id": "OscTCY2hRLWa",
        "outputId": "1946bc48-52ff-4da1-dacb-e43188c2981d"
      },
      "execution_count": 238,
      "outputs": [
        {
          "output_type": "stream",
          "name": "stdout",
          "text": [
            "[[10, 1], [10], [1, 5]]\n"
          ]
        }
      ]
    },
    {
      "cell_type": "code",
      "source": [
        "def romanToInt1(arr:list) -> int:\n",
        "  #Constants\n",
        "  c = 0\n",
        "  keep = 0\n",
        "  n = len(arr)\n",
        "  #Algorithm\n",
        "  for i in range(n):\n",
        "    if i ==0 or keep >= arr[i]:\n",
        "      c += arr[i]\n",
        "      keep = arr[i]\n",
        "    elif i != 0 and keep < arr[i]:\n",
        "      c += arr[i]- keep*2 \n",
        "      keep = arr[i]\n",
        "  return c"
      ],
      "metadata": {
        "id": "vACtbo1TR-MW"
      },
      "execution_count": 240,
      "outputs": []
    },
    {
      "cell_type": "markdown",
      "source": [
        "**RESPUESTA**\n"
      ],
      "metadata": {
        "id": "RxUFlr-5VhbG"
      }
    },
    {
      "cell_type": "code",
      "source": [
        "for i in range(len(transformation(roman))):\n",
        "  print(romanToInt1(transformation(roman)[i]))"
      ],
      "metadata": {
        "colab": {
          "base_uri": "https://localhost:8080/"
        },
        "id": "koFg-EFhUnNr",
        "outputId": "d381cb3a-af52-40f5-83fd-76d76a5c613e"
      },
      "execution_count": 251,
      "outputs": [
        {
          "output_type": "stream",
          "name": "stdout",
          "text": [
            "11\n",
            "10\n",
            "4\n"
          ]
        }
      ]
    },
    {
      "cell_type": "markdown",
      "source": [
        "Ejemplo para ayuda"
      ],
      "metadata": {
        "id": "a8O0bI-PiULz"
      }
    },
    {
      "cell_type": "code",
      "source": [
        "cache[lista[0][0]]+cache[lista[0][1]]"
      ],
      "metadata": {
        "colab": {
          "base_uri": "https://localhost:8080/"
        },
        "id": "wr_-oITlSuua",
        "outputId": "4e835d14-b55f-4df9-f4f3-a0d48b435ded"
      },
      "execution_count": null,
      "outputs": [
        {
          "output_type": "execute_result",
          "data": {
            "text/plain": [
              "6"
            ]
          },
          "metadata": {},
          "execution_count": 52
        }
      ]
    },
    {
      "cell_type": "code",
      "source": [
        "a = []\n",
        "type(a)"
      ],
      "metadata": {
        "colab": {
          "base_uri": "https://localhost:8080/"
        },
        "id": "fgOHwKaiTftm",
        "outputId": "8ab1b0c6-39ba-4a11-fd3d-acb615bc1ef7"
      },
      "execution_count": 239,
      "outputs": [
        {
          "output_type": "execute_result",
          "data": {
            "text/plain": [
              "list"
            ]
          },
          "metadata": {},
          "execution_count": 239
        }
      ]
    }
  ]
}