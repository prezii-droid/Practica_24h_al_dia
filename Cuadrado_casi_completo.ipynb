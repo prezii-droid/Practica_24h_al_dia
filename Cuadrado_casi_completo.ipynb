{
  "nbformat": 4,
  "nbformat_minor": 0,
  "metadata": {
    "colab": {
      "name": "Untitled100.ipynb",
      "provenance": []
    },
    "kernelspec": {
      "name": "python3",
      "display_name": "Python 3"
    },
    "language_info": {
      "name": "python"
    }
  },
  "cells": [
    {
      "cell_type": "code",
      "execution_count": 172,
      "metadata": {
        "colab": {
          "base_uri": "https://localhost:8080/",
          "height": 279
        },
        "id": "FhbxZKkUKTlo",
        "outputId": "16e11f54-7f5f-4f25-d922-a739f3f1d0dc"
      },
      "outputs": [
        {
          "output_type": "display_data",
          "data": {
            "image/png": "[encoded data removed]",
            "text/plain": [
              "<Figure size 432x288 with 1 Axes>"
            ]
          },
          "metadata": {
            "needs_background": "light"
          }
        }
      ],
      "source": [
        "import matplotlib.pyplot as plt \n",
        "\n",
        "c = 5\n",
        "\n",
        "x1 = []\n",
        "x2 = []\n",
        "y1 = []\n",
        "y2 =[]\n",
        "\n",
        "for i in range(0,c+1):\n",
        "  x1.append(-i)\n",
        "  x2.append(i)\n",
        "\n",
        "  y1.append(c)\n",
        "  y2.append(-c)\n",
        "\n",
        "plt.plot(x1, y1, color='green')\n",
        "plt.plot(x1, y2, color='green') \n",
        "plt.plot(x2, y1, color='green')\n",
        "plt.plot(x2, y2, color='green')\n",
        "\n",
        "plt.plot(y1,x1, color='green')\n",
        "plt.plot(y2,x2, color='green') \n",
        "plt.plot(y1,x2, color='green')\n",
        "plt.plot(y2,x1, color='green')\n",
        "\n",
        "plt.grid(True)\n",
        "\n",
        "plt.xlabel('X') \n",
        "plt.ylabel('Y') \n",
        "\n",
        "plt.show()"
      ]
    }
  ]
}